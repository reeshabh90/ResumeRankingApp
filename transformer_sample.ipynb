{
 "cells": [
  {
   "cell_type": "code",
   "execution_count": 3,
   "metadata": {},
   "outputs": [],
   "source": [
    "from pypdf import PdfReader\n",
    "\n",
    "# Function to extract text from a PDF file\n",
    "def extract_text_from_pdf(pdf_file):\n",
    "    with open(pdf_file, 'rb') as file:\n",
    "        pdf_reader = PdfReader(file)\n",
    "        text = ''\n",
    "        for page_num in range(len(pdf_reader.pages)):\n",
    "            text += pdf_reader.pages[page_num].extract_text()\n",
    "    return text"
   ]
  },
  {
   "cell_type": "code",
   "execution_count": 4,
   "metadata": {},
   "outputs": [
    {
     "data": {
      "text/plain": [
       "['Alfred Pennyworth\\nProduct ManagerSilicon Valley, CA, USA\\n♂¶obile-alt(123) 456-7890\\n/envel⌢pealfred.pennyworth@email.com\\n/linkedin-inapennyworth\\n/githubapennyworth\\nProfessional Summary\\nSeasoned Product Manager with over 20 years of experience in software development and product\\nmanagement, having worked at all FAANG companies. Exceptional leadership skills, strategic\\nthinking, and a track record of managing products from conception to market success.\\nSkills\\nProduct management, Agile methodologies, Leadership, Communication, Project\\nmanagement, User Experience Design, Market Research, Data Analysis, Java,\\nPython, JavaScript, HTML/CSS, SQL, AWS\\nExperience\\n2017 –\\nPresentProduct Manager ,Google , Mountain View, CA, USA\\nLeading cross-functional teams to design, develop, and launch innovative products. Devel-\\noping product strategies and making data-driven decisions to improve user experience and\\nmeet business goals.\\n2012 – 2017 Software Development Engineer III ,Amazon , Seattle, WA, USA\\nLed a team of developers in building scalable and high-performing e-commerce applications.\\nSuccessfully delivered multiple projects within the stipulated time and budget.\\n2007 – 2012 Software Development Engineer II ,Apple , Cupertino, CA, USA\\nDesigned and implemented software components for various Apple services. Optimized the\\nperformance of applications and improved code quality through thorough testing.\\n2002 – 2007 Software Development Engineer I ,Netflix , Los Gatos, CA, USA\\nDeveloped and maintained the user interface for the Netflix web application. Worked closely\\nwith product managers and designers to create an optimal user experience.\\n1999 – 2002 Software Development Engineer I ,Facebook , Menlo Park, CA, USA\\nPlayed a key role in the development of early Facebook features. Implemented scalable\\nback-end services using Java and SQL.\\nEducation\\n2016 – 2018 Master of Business Administration ,Stanford University , Stanford, CA, USA\\n1997 – 1999 Master of Science in Computer Science ,Massachusetts Institute of Technology ,\\nCambridge, MA, USA\\n1994 – 1997 Bachelor of Science in Computer Science ,University of California, Berkeley ,\\nBerkeley, CA, USA\\nProjects\\n1/22020 –\\nPresentPersonal Project: Home Automation System\\nDeveloped a smart home automation system using Raspberry Pi and Python. The system\\nautomates various home appliances based on user behavior and preferences, contributing to\\nenergy saving and improved user convenience.\\n2/2',\n",
       " 'Barry Allen\\nFront-End DeveloperGoogle HQ, Mountain View, CA, USA\\n♂¶obile-alt(123) 456-7890\\n/envel⌢peallthe.stars@google.com\\n/linkedin-inbwayne\\n/githubbwayne\\nObjective\\nSeeking a challenging role as a Front-End Developer where I can leverage my knowledge of UI/UX\\ndesign and modern web technologies to create intuitive and engaging user interfaces.\\nEducation\\n2018 – 2022 B.Tech, Computer Science and Engineering ,Indian Institute of Technology\\nDelhi , New Delhi, India\\nOverall GPA: 9.5/10\\nSkills\\nJavaScript (ES6+), TypeScript, HTML5, CSS3, Python, React, Redux, Angular,\\nVue.js, Node.js, Express.js, D3.js, Git, Docker, Webpack, Babel, Google Cloud\\nPlatform, Firebase, RESTful APIs, GraphQL, Agile Development, Test-Driven\\nDevelopment, Responsive Design, UI/UX\\nExperience\\nJune 2022 –\\nPresentSoftware Engineer (Front-End) ,Google , Mountain View, CA, USA\\nDeveloping intuitive and engaging user interfaces using React and Redux. Working closely\\nwith UX designers to implement responsive and accessible web design. Participating in\\nagile development processes, including sprint planning and code reviews. Collaborating with\\nback-end developers to integrate RESTful APIs and ensure seamless data flow.\\nProjects\\n2022 Personal Expense Tracker\\nDeveloped a personal expense tracker application using React, Redux, and Firebase. Imple-\\nmented user authentication using Firebase Auth and data storage using Firestore. Utilized\\nD3.js for data visualization to provide users with insights into their spending patterns.',\n",
       " 'Bruce Wayne\\nMERN Stack Developer123 Gotham St\\nGotham, USA\\n♂¶obile-alt(123) 456-7890\\n/envel⌢pebwayne@email.com\\n/linkedin-inbwayne\\n/githubbwayne\\nProfessional Summary\\nHighly skilled MERN Stack Developer with over 10 years of experience, specializing in designing,\\nbuilding, and maintaining complex web applications. Proficient in MongoDB, Express.js, React, and\\nNode.js. Currently contributing to the development of AI technologies at OpenAI, with a primary\\nfocus on the ChatGPT project.\\nSkills\\nJavaScript and TypeScript, MongoDB, Express.js, React, Node.js (MERN stack),\\nRESTful APIs, Git and GitHub, Docker and Kubernetes, Agile and Scrum, Python\\nand Machine Learning basics\\nExperience\\nJune 2020 –\\nPresentMERN Stack Developer ,OpenAI , San Francisco, USA\\nWorking on the development of the ChatGPT project, using Node.js, Express.js, and React.\\nImplementing RESTful services for communication between frontend and backend. Utilizing\\nDocker and Kubernetes for deployment and management of applications. Working in an\\nAgile environment, delivering high-quality software every sprint. Contributing to the design\\nand implementation of machine learning algorithms for natural language processing tasks.\\nJuly 2015 –\\nMay 2020Full Stack Developer ,Uber , San Francisco, USA\\nDeveloped and maintained scalable web applications using MERN stack. Ensured the\\nperformance, quality, and responsiveness of applications. Successfully deployed solutions\\nusing Docker and Kubernetes. Collaborated with a team of engineers, product managers,\\nand UX designers. Led a team of junior developers, conducted code reviews, and ensured\\nadherence to best coding practices. Worked closely with the data science team to optimize\\nrecommendation algorithms and enhance user experience.\\nJune 2012 –\\nJune 2015Software Developer ,Facebook , Menlo Park, USA\\nDeveloped features for the Facebook web application using React. Ensured the performance\\nof the MongoDB databases. Utilized RESTful APIs for communication between different\\nparts of the application. Worked in a fast-paced, test-driven development environment.\\nAssisted in migrating the legacy system to a modern MERN stack architecture.\\nEducation\\n2009 – 2012 PhD in Computer Science ,CalTech , Pasadena, USA\\n2007 – 2009 Master of Science in Computer Science ,MIT, Cambridge, USA\\n2003 – 2007 Bachelor of Science in Computer Science ,UC San Diego , San Diego, USA\\n1/2Projects\\n2019 –\\nPresentPersonal Project: Gotham Event Planner\\nCreated a full-featured web application to plan and organize events in Gotham city. Used\\nMERN stack for development and Docker for deployment. The application allows users to\\ncreate, manage, and share events, and integrates with Google Maps API to display event\\nlocations.\\n2/2',\n",
       " 'JOHN DOE\\n123 Main St, Anywhere, USA — (123) 456-7890 — john.doe@email.com\\nLinkedIn: linkedin.com/in/johndoe — GitHub: github.com/johndoe\\nPROFESSIONAL SUMMARY\\nHighly skilled Full Stack Developer with over 5 years of experience in Java and Angular development,\\nspecializing in designing, building, testing, and maintaining web applications. Proficient in an assortment\\nof technologies, including Java, Spring Boot, Angular, HTML5, CSS3, and SQL. Exceptional ability to\\nwork in a team and self-direct. Committed to providing high-quality results with little supervision.\\nSKILLS\\n•Java and J2EE\\n•Spring Boot, Spring MVC, and Hibernate\\n•Angular (versions 2+)\\n•JavaScript, TypeScript, HTML5, CSS3, and Bootstrap\\n•RESTful APIs\\n•SQL and NoSQL databases (MySQL, MongoDB)\\n•Agile and Scrum\\n•Git and GitHub\\n•Junit and Mockito\\n•Docker\\nWORK EXPERIENCE\\nFull Stack Java Developer , ABC Company, Inc., Anywhere, USA, June 2018 - Present\\n•Developed scalable, robust, and maintainable enterprise-level applications using Java and Spring\\nBoot\\n•Used Angular for developing dynamic and responsive web front-ends, improving user experience\\nby 30\\n•Integrated applications with MySQL and MongoDB databases to store and retrieve data efficiently\\n•Collaborated in an Agile development team to deliver high-quality software every sprint\\n•Created RESTful services and APIs for frontend and third-party applications\\n•Wrote unit tests using Junit and Mockito for robust testing of application components\\nSoftware Developer , XYZ Solutions, Anywhere, USA, July 2016 - June 2018\\n•Participated in the complete software development life cycle from requirement analysis to deploy-\\nment\\n•Implemented business logic using Java and enhanced user interface using Angular\\n•Developed and maintained SQL and NoSQL databases, implementing complex queries for business\\nneeds\\n•Utilized Git for version control and collaborated with team members via GitHub\\n•Assisted in troubleshooting, software debugging, and system enhancements\\n1EDUCATION\\nBachelor of Science in Computer Science , State University, Anywhere, USA, May 2016\\nCERTIFICATIONS\\n•Oracle Certified Professional, Java SE 8 Programmer\\n•Certified Angular Developer\\n2',\n",
       " ' \\n**Dr. James Coal**  \\n456 Research Street  \\nLos Angeles, CA 90001  \\n(555) 555 -5678  \\njames.coal@example.com  \\n \\n**Objective:**  \\nExperienced and innovative Ph.D. in Medicine with a passion for medical research and education. Seeking to apply advanced exp ertise in [specific area of medical research, e.g., oncology, \\nimmunology] to contribute to groundbreaking research projects and adv ance medical knowledge in a dynamic research environment.  \\n \\n**Education:**  \\n \\n- Doctor of Philosophy (Ph.D.) in Medicine  \\n  University of California, Los Angeles (UCLA)  \\n  Graduated: May 2022  \\n \\n**Research Focus:**  \\nConducted cutting -edge research in [specific are a of medical research], exploring novel approaches to [research focus]. Dissertation titled \"[Title of Dissertation]\" focused  on [brief description \\nof dissertation topic and findings].  \\n \\n**Publications:**  \\n[List any publications resulting from your research,  including journal articles, conference papers, and book chapters. Provide full citations for each publication.]  \\n \\n1. Author(s). \"Title of Publication.\" Journal Name, Volume(Issue), Page Range, Year.  \\n2. Author(s). \"Title of Publication.\" Conference Proceedi ngs, Conference Name, Page Range, Year.  \\n   ... \\n \\n**Research Experience:**  \\nResearch Scientist, [Research Institution], Los Angeles, CA, USA, Jun 2022 - Present  \\n- Led a research team in investigating [specific area of medical research], focusing on [research focus]  \\n- Designed and executed experiments to elucidate underlying mechanisms and identify potential therapeutic targets  \\n- Published research findings in peer -reviewed journals and presented at national and international conferences  \\n- Collaborated with interdisciplinary teams to advance research initiatives and foster innovation  \\n \\n**Teaching Experience:**  \\nTeaching Assistant, Department of Medicine, UCLA, Los Ang eles, CA, USA, Aug 20XX - May 20XX  \\n- Assisted in teaching undergraduate and graduate courses in [specific area of medicine or research]  \\n- Conducted laboratory sessions and facilitated student discussions  \\n- Provided mentorship and guidance to students on re search projects and academic pursuits  \\n \\n**Skills:**  - Advanced research methodologies and techniques  \\n- Data analysis and interpretation  \\n- Scientific writing and communication  \\n- Project management and team leadership  \\n- Proficiency in [relevant software or pr ogramming languages, if applicable]  \\n \\n**Professional Memberships:**  \\n- Member, American Association for the Advancement of Science (AAAS)  \\n- Member, [Specialized Medical Research Society/Association]  \\nmedical research.  ',\n",
       " \" \\n**Dr. Johnny Yes**  \\n123 Medical Avenue  \\nNew York, NY 10001  \\n(555) 555 -1234  \\njohnny.yes@example.com  \\n \\n**Objective:**  \\nCompassionate and dedicated MBBS graduate from Harvard Medical School, seeking to leverage medical \\nknowledge and clinical experience to contribute effectively as a Medical Intern at a renowned healthcare \\ninstitution. Committed to providing exceptional pati ent care and continuously advancing medical \\nexpertise.  \\n \\n**Education:**  \\n \\n- Bachelor of Medicine, Bachelor of Surgery (MBBS)  \\n  Harvard Medical School, Boston, MA, USA  \\n  Graduated: May 2023  \\n \\n**Clinical Rotations:**  \\nConducted comprehensive clinical rotations i n various departments of leading hospitals, including:  \\n- Internal Medicine, Massachusetts General Hospital, Boston, MA, USA, Jan 2022 - Mar 2022  \\n- Pediatrics, Boston Children's Hospital, Boston, MA, USA, Apr 2022 - Jun 2022  \\n- Surgery, Brigham and Women's H ospital, Boston, MA, USA, Jul 2022 - Sep 2022  \\n- Obstetrics and Gynecology, Beth Israel Deaconess Medical Center, Boston, MA, USA, Oct 2022 - Dec \\n2022  \\n- Psychiatry, McLean Hospital, Belmont, MA, USA, Jan 2023 - Mar 2023  \\n \\n**Licensure and Certifications:**  \\n- Licensed Physician, Massachusetts Medical Board, May 2023  - Basic Life Support (BLS) Certification, American Heart Association, Feb 2023  \\n \\n**Clinical Skills:**  \\n- Comprehensive patient assessment and diagnosis  \\n- Treatment planning and management  \\n- Proficie nt in medical procedures such as suturing, IV placement, and wound care  \\n- Accurate and thorough medical record documentation  \\n- Effective communication with patients and families  \\n- Collaborative approach to interdisciplinary patient care  \\n \\n**Professional Exp erience:**  \\nMedical Intern, Brigham and Women's Hospital, Boston, MA, USA, Apr 2023 - Present  \\n- Assisted senior physicians in diagnosing and treating patients across various specialties  \\n- Conducted patient consultations and physical examinations under super vision  \\n- Participated in treatment planning and management discussions  \\n- Provided compassionate and empathetic care to patients and their families  \\n \\n**Research Experience:**  \\nResearch Assistant, Harvard Medical School, Boston, MA, USA, Sep 2021 - Mar 2023  \\n- Conducted literature reviews and data analysis for ongoing research projects  \\n- Contributed to manuscript preparation and presentation of research findings at medical conferences  \\n- Collaborated with multidisciplinary teams to investigate emerging medical to pics \\n \\n**Professional Memberships:**  \\n- Member, American Medical Association (AMA), 2020 - Present  \\n- Member, Massachusetts Medical Society, 2020 - Present  \\n \\n**References:**  \\nAvailable upon request.   \\n \"]"
      ]
     },
     "execution_count": 4,
     "metadata": {},
     "output_type": "execute_result"
    }
   ],
   "source": [
    "documents = []\n",
    "org_docs = [\n",
    "    \"Data/Resumes/alfred_pennyworth_pm.pdf\",\n",
    "    \"Data/Resumes/barry_allen_fe.pdf\",\n",
    "    \"Data/Resumes/bruce_wayne_fullstack.pdf\",\n",
    "    \"Data/Resumes/john_doe.pdf\",\n",
    "    \"Data/Resumes/James_Coal.pdf\",\n",
    "    \"Data/Resumes/Johny_Yes.pdf\"\n",
    "]\n",
    "for filename in org_docs:\n",
    "    document_text = extract_text_from_pdf(filename)\n",
    "    documents.append(document_text)\n",
    "documents\n"
   ]
  },
  {
   "cell_type": "code",
   "execution_count": 5,
   "metadata": {},
   "outputs": [],
   "source": [
    "target_document = extract_text_from_pdf(\"Data/JobDescription/job_desc_front_end_engineer.pdf\")"
   ]
  },
  {
   "cell_type": "code",
   "execution_count": 13,
   "metadata": {},
   "outputs": [
    {
     "name": "stderr",
     "output_type": "stream",
     "text": [
      "c:\\Code Repo\\RankingApp\\.venv\\Lib\\site-packages\\huggingface_hub\\file_download.py:148: UserWarning: `huggingface_hub` cache-system uses symlinks by default to efficiently store duplicated files but your machine does not support them in C:\\Users\\Reeshabh.Choudhary\\.cache\\huggingface\\hub\\models--sentence-transformers--all-MiniLM-L12-v2. Caching files will still work but in a degraded version that might require more space on your disk. This warning can be disabled by setting the `HF_HUB_DISABLE_SYMLINKS_WARNING` environment variable. For more details, see https://huggingface.co/docs/huggingface_hub/how-to-cache#limitations.\n",
      "To support symlinks on Windows, you either need to activate Developer Mode or to run Python as an administrator. In order to see activate developer mode, see this article: https://docs.microsoft.com/en-us/windows/apps/get-started/enable-your-device-for-development\n",
      "  warnings.warn(message)\n"
     ]
    }
   ],
   "source": [
    "from sentence_transformers import SentenceTransformer, util\n",
    "model = SentenceTransformer(\"all-MiniLM-L12-v2\")"
   ]
  },
  {
   "cell_type": "code",
   "execution_count": 14,
   "metadata": {},
   "outputs": [],
   "source": [
    "# Encode documents and target document\n",
    "documents_embeddings = model.encode(documents)\n",
    "target_document_embedding = model.encode(target_document)"
   ]
  },
  {
   "cell_type": "code",
   "execution_count": 16,
   "metadata": {},
   "outputs": [
    {
     "name": "stdout",
     "output_type": "stream",
     "text": [
      "1. Data/Resumes/barry_allen_fe.pdf - Similarity: 0.7259\n",
      "2. Data/Resumes/john_doe.pdf - Similarity: 0.4285\n",
      "3. Data/Resumes/alfred_pennyworth_pm.pdf - Similarity: 0.3215\n",
      "4. Data/Resumes/bruce_wayne_fullstack.pdf - Similarity: 0.2946\n",
      "5. Data/Resumes/James_Coal.pdf - Similarity: 0.2331\n",
      "6. Data/Resumes/Johny_Yes.pdf - Similarity: 0.1296\n"
     ]
    }
   ],
   "source": [
    "from sklearn.metrics.pairwise import cosine_similarity\n",
    "# Calculate cosine similarity between job description and resumes\n",
    "similarities = [util.cos_sim(target_document_embedding, resume_embedding) for resume_embedding in documents_embeddings]\n",
    "# Sort resumes based on similarity scores\n",
    "ranked_resumes = sorted(zip(org_docs, similarities), key=lambda x: x[1], reverse=True)\n",
    "\n",
    "for idx, (resume_path, similarity) in enumerate(ranked_resumes, start=1):\n",
    "    similarity_str = f\"{float(similarity[0]):.4f}\"\n",
    "    print(f\"{idx}. {resume_path} - Similarity: {similarity_str}\")"
   ]
  }
 ],
 "metadata": {
  "kernelspec": {
   "display_name": ".venv",
   "language": "python",
   "name": "python3"
  },
  "language_info": {
   "codemirror_mode": {
    "name": "ipython",
    "version": 3
   },
   "file_extension": ".py",
   "mimetype": "text/x-python",
   "name": "python",
   "nbconvert_exporter": "python",
   "pygments_lexer": "ipython3",
   "version": "3.12.1"
  }
 },
 "nbformat": 4,
 "nbformat_minor": 2
}
